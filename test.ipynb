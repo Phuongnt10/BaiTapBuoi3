{
 "cells": [
  {
   "cell_type": "code",
   "execution_count": 1,
   "metadata": {},
   "outputs": [
    {
     "data": {
      "text/plain": [
       "NoneType"
      ]
     },
     "execution_count": 1,
     "metadata": {},
     "output_type": "execute_result"
    }
   ],
   "source": [
    "p=None\n",
    "type(p)"
   ]
  },
  {
   "cell_type": "code",
   "execution_count": 2,
   "metadata": {},
   "outputs": [
    {
     "data": {
      "text/plain": [
       "str"
      ]
     },
     "execution_count": 2,
     "metadata": {},
     "output_type": "execute_result"
    }
   ],
   "source": [
    "p=\"\"\n",
    "type(p)"
   ]
  },
  {
   "cell_type": "code",
   "execution_count": 3,
   "metadata": {},
   "outputs": [
    {
     "data": {
      "text/plain": [
       "int"
      ]
     },
     "execution_count": 3,
     "metadata": {},
     "output_type": "execute_result"
    }
   ],
   "source": [
    "diem=0\n",
    "card=[]\n",
    "for i in card:\n",
    "    diem+= i.rank\n",
    "type(diem)   "
   ]
  },
  {
   "cell_type": "code",
   "execution_count": 4,
   "metadata": {},
   "outputs": [
    {
     "data": {
      "text/plain": [
       "builtin_function_or_method"
      ]
     },
     "execution_count": 4,
     "metadata": {},
     "output_type": "execute_result"
    }
   ],
   "source": [
    "def point(self):  # trung bình\n",
    "        sum=self.listBai[0].rank+self.listBai[1].rank+self.listBai[2].rank\n",
    "        if sum <=10:\n",
    "           sum=sum\n",
    "        else:\n",
    "            if sum%10==0:\n",
    "                sum=10\n",
    "            else:\n",
    "                sum=sum%10\n",
    "        return sum\n",
    "type(sum)        "
   ]
  },
  {
   "cell_type": "code",
   "execution_count": 5,
   "metadata": {},
   "outputs": [
    {
     "data": {
      "text/plain": [
       "int"
      ]
     },
     "execution_count": 5,
     "metadata": {},
     "output_type": "execute_result"
    }
   ],
   "source": [
    "\n",
    "total = 0\n",
    "   \n",
    "type(total)        "
   ]
  },
  {
   "cell_type": "code",
   "execution_count": null,
   "metadata": {},
   "outputs": [],
   "source": [
    "def extract_names(filename):\n",
    "  \"\"\"\n",
    "  Cho một file .html, trả ra list bắt đầu bằng năm, \n",
    "  theo sau bởi các chuỗi tên-xếp hạng theo thứ tự abc.\n",
    "  ['2006', 'Aaliyah 91', Aaron 57', 'Abagail 895', ' ...]\n",
    "  \"\"\"\n",
    "  # +++your code here+++\n",
    "  year ='Popularity in (\\\\d+)'\n",
    "  name='tr align=\"right\"><td>(\\d+)</td><td>(\\w+)</td><td>(\\w+)'  \n",
    "  list_result=[]\n",
    "  with open(filename,'r') as file:\n",
    "        files= file.readlines()\n",
    "        for i in files:\n",
    "          for j in re.findall(year,i):\n",
    "                list_result.append(j)\n",
    "                \n",
    "          for n in re.findall(name,i):\n",
    "                list_result.append(f'{(n)[1]}  {(n)[0]}')\n",
    "                list_result.append(f'{(n)[2]}  {(n)[0]}')\n",
    "        return (sorted(list_result,reverse=False))    \n",
    "\n",
    "extract_names(filename)        "
   ]
  }
 ],
 "metadata": {
  "interpreter": {
   "hash": "04635d289a519a1410467dd0afb0db42f9184808881ca68b2eb5a687a20a5a94"
  },
  "kernelspec": {
   "display_name": "Python 3.7.6 64-bit",
   "language": "python",
   "name": "python3"
  },
  "language_info": {
   "codemirror_mode": {
    "name": "ipython",
    "version": 3
   },
   "file_extension": ".py",
   "mimetype": "text/x-python",
   "name": "python",
   "nbconvert_exporter": "python",
   "pygments_lexer": "ipython3",
   "version": "3.7.6"
  },
  "orig_nbformat": 4
 },
 "nbformat": 4,
 "nbformat_minor": 2
}
