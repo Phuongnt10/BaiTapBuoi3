{
 "cells": [
  {
   "cell_type": "code",
   "execution_count": 2,
   "source": [
    "n=12345\r\n",
    "str_1=str(n)\r\n",
    "type(str_1)"
   ],
   "outputs": [
    {
     "output_type": "execute_result",
     "data": {
      "text/plain": [
       "str"
      ]
     },
     "metadata": {},
     "execution_count": 2
    }
   ],
   "metadata": {}
  },
  {
   "cell_type": "code",
   "execution_count": 2,
   "source": [
    "str1 = \"Emma25 is Data scientist50 and AI Expert 2dad\"\r\n",
    "list2=[]\r\n",
    "\r\n",
    "def alpha_num(sentence):\r\n",
    "    sentence=sentence.split()\r\n",
    "    for i in sentence:\r\n",
    "        if i.isalpha() == False and i.isalnum()==True:\r\n",
    "            list2.append(i)\r\n",
    "    return list2\r\n",
    "\r\n",
    "print(\"- Easy 2\\nOutput : \",alpha_num(str1),\"\\n\")"
   ],
   "outputs": [
    {
     "output_type": "stream",
     "name": "stdout",
     "text": [
      "- Easy 2\n",
      "Output :  ['Emma25', 'scientist50', '2dad'] \n",
      "\n"
     ]
    }
   ],
   "metadata": {}
  },
  {
   "cell_type": "code",
   "execution_count": 4,
   "source": [
    "n = 123214\r\n",
    "def anagram_number(n):\r\n",
    "    str1 = str (n)    \r\n",
    "    str2 = str1[::-1] \r\n",
    "    if (str1 == str2):\r\n",
    "        return False   \r\n",
    "    else:\r\n",
    "        return False\r\n",
    "anagram_number(n)"
   ],
   "outputs": [
    {
     "output_type": "execute_result",
     "data": {
      "text/plain": [
       "False"
      ]
     },
     "metadata": {},
     "execution_count": 4
    }
   ],
   "metadata": {}
  }
 ],
 "metadata": {
  "orig_nbformat": 4,
  "language_info": {
   "name": "python",
   "version": "3.7.8",
   "mimetype": "text/x-python",
   "codemirror_mode": {
    "name": "ipython",
    "version": 3
   },
   "pygments_lexer": "ipython3",
   "nbconvert_exporter": "python",
   "file_extension": ".py"
  },
  "kernelspec": {
   "name": "python3",
   "display_name": "Python 3.7.8 64-bit"
  },
  "interpreter": {
   "hash": "04635d289a519a1410467dd0afb0db42f9184808881ca68b2eb5a687a20a5a94"
  }
 },
 "nbformat": 4,
 "nbformat_minor": 2
}